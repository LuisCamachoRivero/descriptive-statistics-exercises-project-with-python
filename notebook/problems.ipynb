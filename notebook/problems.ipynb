{
    "cells": [
        {
            "cell_type": "markdown",
            "id": "ac622319",
            "metadata": {},
            "source": [
                "# Descriptive statistics problems"
            ]
        },
        {
            "cell_type": "markdown",
            "id": "5e0ab0d5",
            "metadata": {},
            "source": [
                "### Exercise 1\n",
                "\n",
                "We will use NumPy to obtain information to describe statistically.\n",
                "\n",
                "- Generate an array of 100 elements following a normal distribution.\n",
                "- Generate an array of 100 elements following a chi-square distribution with 3 degrees of freedom.\n",
                "- Calculate the main metrics and statistical measures that best describe the two vectors."
            ]
        },
        {
            "cell_type": "code",
            "execution_count": 24,
            "id": "34720ab6",
            "metadata": {},
            "outputs": [
                {
                    "name": "stdout",
                    "output_type": "stream",
                    "text": [
                        "Media Normal: -0.10333579659681179 \n",
                        "Media Chi-square: 95.9683855017743\n",
                        "\n",
                        "Moda Normal: -0.004838899942510531 \n",
                        "Moda Chi-square: 91.90986446536859\n",
                        "\n",
                        "Mediana Normal: -0.05125170056949015 \n",
                        "Mediana Chi-square: 91.90986446536859\n",
                        "\n",
                        "Rango Normal: 4.730497714358741 \n",
                        "Rango Chi-square: 14.662646405229466\n",
                        "\n",
                        "Varianza Normal: 0.9474641770574435 \n",
                        "Varianza Chi-square: 66.10199465340796\n",
                        "\n",
                        "Desviación Estandar Normal: 0.9733777155130703 \n",
                        "Desviación Estandar Chi-square: 8.130313318280418\n",
                        "\n",
                        "Asimetria Normal: -0.03499138763464627 \n",
                        "Asimetria Chi-square: 0.6885423109244252\n",
                        "\n",
                        "Curtosis Normal: -0.46384055867505625 \n",
                        "Curtosis Chi-square: -1.5000000000000016\n",
                        "\n",
                        "\n"
                    ]
                }
            ],
            "source": [
                "# TODO\n",
                "\n",
                "import numpy as np\n",
                "\n",
                "array_normal = np.random.randn(100)\n",
                "array_chi2 = np.random.chisquare(100,3)\n",
                "\n",
                "\n",
                "#MEDIA\n",
                "media_normal = np.mean(array_normal)\n",
                "media_chi2 = np.mean(array_chi2)\n",
                "print(f\"Media Normal: {media_normal} \\nMedia Chi-square: {media_chi2}\\n\")\n",
                "\n",
                "\n",
                "import statistics as stats\n",
                "#MODA\n",
                "moda_normal = stats.mode(array_normal)\n",
                "moda_chi2 = stats.mode(array_chi2)\n",
                "print(f\"Moda Normal: {moda_normal} \\nModa Chi-square: {moda_chi2}\\n\")\n",
                "\n",
                "#MEDIANA\n",
                "mediana_normal = stats.median(array_normal)\n",
                "mediana_chi2 = stats.median(array_chi2)\n",
                "print(f\"Mediana Normal: {mediana_normal} \\nMediana Chi-square: {mediana_chi2}\\n\")\n",
                "\n",
                "#RANGO\n",
                "rango_normal = max(array_normal) - min(array_normal)\n",
                "rango_chi2 = max(array_chi2) - min(array_chi2)\n",
                "print(f\"Rango Normal: {rango_normal} \\nRango Chi-square: {rango_chi2}\\n\")\n",
                "\n",
                "#VARIANZA\n",
                "varianza_normal = stats.variance(array_normal)\n",
                "varianza_chi2 = stats.variance(array_chi2)\n",
                "print(f\"Varianza Normal: {varianza_normal} \\nVarianza Chi-square: {varianza_chi2}\\n\")\n",
                "\n",
                "\n",
                "#Desciacion Estandar\n",
                "dvest_normal = stats.stdev(array_normal)\n",
                "dvest_chi2 = stats.stdev(array_chi2)\n",
                "print(f\"Desviación Estandar Normal: {dvest_normal} \\nDesviación Estandar Chi-square: {dvest_chi2}\\n\")\n",
                "\n",
                "\n",
                "import scipy.stats as stats2\n",
                "\n",
                "#ASIMETRIA\n",
                "asim_normal = stats2.skew(array_normal)\n",
                "asim_chi2 = stats2.skew(array_chi2)\n",
                "print(f\"Asimetria Normal: {asim_normal} \\nAsimetria Chi-square: {asim_chi2}\\n\")\n",
                "\n",
                "\n",
                "#CURTOSIS\n",
                "kur_normal = stats2.kurtosis(array_normal)\n",
                "kur_chi2 = stats2.kurtosis(array_chi2)\n",
                "print(f\"Curtosis Normal: {kur_normal} \\nCurtosis Chi-square: {kur_chi2}\\n\")\n",
                "\n",
                "print()\n"
            ]
        },
        {
            "cell_type": "markdown",
            "id": "46c70c3d",
            "metadata": {},
            "source": [
                "### Exercise 2\n",
                "\n",
                "Write a Python program to calculate the standard deviation of the following data:\n",
                "\n",
                "```py\n",
                "data = [4, 2, 5, 8, 6]\n",
                "```"
            ]
        },
        {
            "cell_type": "code",
            "execution_count": 25,
            "id": "d590308e",
            "metadata": {},
            "outputs": [
                {
                    "name": "stdout",
                    "output_type": "stream",
                    "text": [
                        "Promedio de la data: 5.2\n",
                        "Desviación Estandar Manual: 1.7204650534085253\n",
                        "Desviacion Estandar con NumPy: 1.7204650534085253\n"
                    ]
                }
            ],
            "source": [
                "# TODO\n",
                "\n",
                "data = [4,3,5,8,6]\n",
                "\n",
                "def promedio(datos):\n",
                "    suma = 0 \n",
                "    for n in datos:\n",
                "        suma += n\n",
                "    return suma/len(datos)\n",
                "\n",
                "print(\"Promedio de la data: \" + str(promedio(data)))\n",
                "\n",
                "def suma_distancia_media(dato,media):\n",
                "    resta = dato - media\n",
                "    distancia = resta**2\n",
                "    return distancia\n",
                "\n",
                "import math\n",
                "\n",
                "def desv_est(datos):\n",
                "    media = promedio(datos)\n",
                "    suma_distancias = 0 \n",
                "    for n in datos:\n",
                "        suma_distancias += suma_distancia_media(n,media)\n",
                "    promedio_distancias = suma_distancias/len(datos)\n",
                "    return math.sqrt(promedio_distancias)\n",
                "\n",
                "print(\"Desviación Estandar Manual: \" + str(desv_est(data)))\n",
                "print(\"Desviacion Estandar con NumPy: \" + str(np.std(data)))"
            ]
        }
    ],
    "metadata": {
        "interpreter": {
            "hash": "9248718ffe6ce6938b217e69dbcc175ea21f4c6b28a317e96c05334edae734bb"
        },
        "kernelspec": {
            "display_name": "Python 3.9.12 ('ML-BOOTCAMP')",
            "language": "python",
            "name": "python3"
        },
        "language_info": {
            "codemirror_mode": {
                "name": "ipython",
                "version": 3
            },
            "file_extension": ".py",
            "mimetype": "text/x-python",
            "name": "python",
            "nbconvert_exporter": "python",
            "pygments_lexer": "ipython3",
            "version": "3.11.4"
        }
    },
    "nbformat": 4,
    "nbformat_minor": 5
}
